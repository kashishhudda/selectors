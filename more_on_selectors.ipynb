{
  "nbformat": 4,
  "nbformat_minor": 0,
  "metadata": {
    "colab": {
      "provenance": []
    },
    "kernelspec": {
      "name": "python3",
      "display_name": "Python 3"
    },
    "language_info": {
      "name": "python"
    }
  },
  "cells": [
    {
      "cell_type": "markdown",
      "source": [
        "1. Q1. For the given index.html file. Perform the following task, without changing the index.html file.\n",
        "index.html (The HTML file)\n",
        "A. Create a CSS file to apply styles to the HTML element, and link it\n",
        "B. Using the combinator selector, perform the following task `\n",
        "_ Use any of the CSS combinator selectors to target all the anchor tags and change the text color to re[\n",
        "_ Target only the first <h2> tag and change the text and background color using the combinator selectol\n",
        "_ Also, select the first <p> tag and change the text color to red.\n",
        "C. Using the attribute selector, perform the following tas\n",
        "_ target the anchor tag with attribute \"href\" and change color to red and remove the text underline¢\n",
        "_ Target the anchor tag with the attribute of class name “active”, change the text color, and provide the text\n",
        "style properties with underlining\n",
        "_ Target the anchor tag with the attribute of the target whose value is “_self” and change the background\n",
        "color.\n",
        "D. Using the Pseudo selectors, perform the following tas\n",
        "_ Target the last <p> tag and add “...” i.e. three dots after its valuÆ\n",
        "_ Target the list of bullet points and change the color of the bullet points without changing the list item's value\n",
        "_ Among the three <p> tags target the 2nd <p> tag, select the first letter of the second <p> tag, and change the\n",
        "color to red Also increase the font size to 30px"
      ],
      "metadata": {
        "id": "sYdbhso_IQLi"
      }
    },
    {
      "cell_type": "code",
      "source": [
        "< !DOCTYPE html>\n",
        "< html lang=\"en\">\n",
        "< head>\n",
        "    < meta charset=\"UTF-8\">\n",
        "    < meta name=\"viewport\" content=\"width=device-width, initial-scale=1.0\">\n",
        "    < title>test< /title>\n",
        "    < link rel=\"stylesheet\" href=\"style.css\">\n",
        "< /head>\n",
        "< body>\n",
        "    < header>\n",
        "        < nav>\n",
        "            < h2>TOI< /h2>\n",
        "            < div>\n",
        "                < h2>Menu< /h2>\n",
        "                < ul>\n",
        "                    < li><a href=\"#\" target=\"_blank\">Home< /a>< /li>\n",
        "                    < li><a href=\"#\" class=\"active\" target=\"_self\">About< /a>< /li>\n",
        "                    < li><a href=\"#\" target=\"_blank\">Services< /a>< /li>\n",
        "                    < li><a href=\"#\" target=\"_blank\">Contact< /a>< /li>\n",
        "                < /ul>\n",
        "            < /div>\n",
        "            < p>The Times Of India< /p>\n",
        "            < p>Lorem ipsum dolor sit amet consectetur adipisicing elit. Natus possimus corporis inventore officia, molestiae quia velit suscipit, rerum, nesciunt expedita iure iste obcaecati tempore optio!< /p>\n",
        "            < p>Read articles< /p>\n",
        "        < /nav>\n",
        "    < /header>\n",
        "< /body>\n",
        "< /html>\n",
        "\n",
        "\n",
        "\"\"\"External CSS\"\"\"\n",
        "/* --- Combinator selectors --- */\n",
        "nav a { color: red; }\n",
        "nav > h2:first-child {\n",
        "    color: white;\n",
        "    background: blue;\n",
        "}\n",
        "nav > p:first-of-type { color: red; }\n",
        "\n",
        "/* --- Attribute selectors --- */\n",
        "a[href] { color: red; text-decoration: none; }\n",
        "a.active { color: green; text-decoration: underline; }\n",
        "a[target=\"_self\"] { background: yellow; }\n",
        "\n",
        "/* --- Pseudo selectors --- */\n",
        "nav > p:last-of-type::after { content: \" ...\"; }\n",
        "nav ul li::marker { color: purple; }\n",
        "nav > p:nth-of-type(2)::first-letter {\n",
        "    color: red;\n",
        "    font-size: 30px;\n",
        "}\n"
      ],
      "metadata": {
        "id": "Z3ReofMZIXrR"
      },
      "execution_count": null,
      "outputs": []
    },
    {
      "cell_type": "markdown",
      "source": [
        "2. Create a CSS file and link it to the provided HTML file below, use any of the combinator class selectors to\n",
        "style the navigation menu as follows -\n",
        "index.html (The HTML file)\n",
        "` Use the Descendant combinator selector to remove list style type bullet points and text underlining of the\n",
        "Menu list itemse\n",
        "` Use the child combinator to display the menu list item inlin^\n",
        "` Use the Adjacent sibling combinator selector to apply some margin between the menu list items."
      ],
      "metadata": {
        "id": "rdjwY3mmIn4o"
      }
    },
    {
      "cell_type": "code",
      "source": [
        "< !DOCTYPE html>\n",
        "< html lang=\"en\">\n",
        "< head>\n",
        "    < meta charset=\"UTF-8\">\n",
        "    < meta name=\"viewport\" content=\"width=device-width, initial-scale=1.0\">\n",
        "    < title>Styled Navigation Menu< /title>\n",
        "    < link rel=\"stylesheet\" href=\"style.css\">\n",
        "< /head>\n",
        "< body>\n",
        "    < header>\n",
        "        < nav>\n",
        "                < ul>\n",
        "                    < li><a href=\"#\" >Home< /a>< /li>\n",
        "                    < li><a href=\"#\" >About< /a>< /li>\n",
        "                    < li><a href=\"#\" >Services< /a>< /li>\n",
        "                    < li><a href=\"#\" >Contact< /a>< /li>\n",
        "                    < li><a href=\"#\" >Portfolio< /a>< /li>\n",
        "                < /ul>\n",
        "        < /nav>\n",
        "    < /header>\n",
        "    < main>\n",
        "        <!-- Your contact Here -->\n",
        "    < /main>\n",
        "< /body>\n",
        "< /html>\n",
        "\n",
        "\"\"\"External CSS\"\"\"\n",
        "/* --- Descendant combinator: remove bullets and underline --- */\n",
        "nav ul li a {\n",
        "    text-decoration: none;  /* Remove underline from links */\n",
        "}\n",
        "\n",
        "nav ul {\n",
        "    list-style-type: none;  /* Remove bullet points */\n",
        "    padding: 0;             /* Remove default padding */\n",
        "    margin: 0;              /* Remove default margin */\n",
        "}\n",
        "\n",
        "/* --- Child combinator: display list items inline --- */\n",
        "nav > ul > li {\n",
        "    display: inline;        /* Make menu items horizontal */\n",
        "}\n",
        "\n",
        "/* --- Adjacent sibling combinator: margin between menu items --- */\n",
        "nav > ul > li + li {\n",
        "    margin-left: 20px;      /* Space between each menu item */\n",
        "}\n"
      ],
      "metadata": {
        "id": "ns7JxtrgJquR"
      },
      "execution_count": null,
      "outputs": []
    },
    {
      "cell_type": "markdown",
      "source": [
        "3. Using any of the Pseudo element selectors, add any random words after and before the given HTML tag\n"
      ],
      "metadata": {
        "id": "X_5ng06OKesp"
      }
    },
    {
      "cell_type": "code",
      "source": [
        "< !DOCTYPE html>\n",
        "< html lang=\"en\">\n",
        "< head>\n",
        "    < meta charset=\"UTF-8\">\n",
        "    < meta name=\"viewport\" content=\"width=device-width, initial-scale=1.0\">\n",
        "    < title>Pseudo Element Example< /title>\n",
        "    < link rel=\"stylesheet\" href=\"style.css\">\n",
        "< /head>\n",
        "< body>\n",
        "    < h1>-element-< /h1>\n",
        "< /body>\n",
        "< /html>\n",
        "\n",
        "\n",
        "\"\"\"External CSS\"\"\"\n",
        "\n",
        "h1::before {\n",
        "    content: \"Hello \";\n",
        "    color: blue;\n",
        "    font-size: 20px;\n",
        "}\n",
        "\n",
        "\n",
        "h1::after {\n",
        "    content: \" World!\";\n",
        "    color: green;\n",
        "    font-size: 20px;\n",
        "}\n"
      ],
      "metadata": {
        "id": "OH8bKSbZKlqS"
      },
      "execution_count": null,
      "outputs": []
    },
    {
      "cell_type": "markdown",
      "source": [
        "4.  Using any of the Pseudo element selectors, add any random words after and before the given HTML tag\n",
        "Assignment Question\n",
        " An example should be one HTML button tac\n",
        " When hovering the color should be changed and the shadow of the buttonshould be added^\n",
        " Proper padding space should be given^\n",
        " The cursor style should also be changed to a pointer on hover\n"
      ],
      "metadata": {
        "id": "FO5qri-cl41F"
      }
    },
    {
      "cell_type": "code",
      "source": [
        "< !DOCTYPE html>\n",
        "< html lang=\"en\">\n",
        "< head>\n",
        "    < meta charset=\"UTF-8\">\n",
        "    < meta name=\"viewport\" content=\"width=device-width, initial-scale=1.0\">\n",
        "    < title>Pseudo-element Button Example< /title>\n",
        "    < link rel=\"stylesheet\" href=\"style.css\">\n",
        "< /head>\n",
        "< body>\n",
        "    < button class=\"fancy-btn\">PW skills</button>\n",
        "< /body>\n",
        "< /html>\n",
        "\n",
        "\n",
        "\"\"\"External CSS\"\"\"\n",
        "/* Base button styling */\n",
        ".fancy-btn {\n",
        "    position: relative;\n",
        "    padding: 10px 20px;\n",
        "    font-size: 18px;\n",
        "    background-color:#439dd1;\n",
        "    color: white;\n",
        "    border: none;\n",
        "    border-radius: 5px;\n",
        "    cursor: pointer;\n",
        "    transition: all 0.3s ease;\n",
        "}\n",
        "\n",
        "\n",
        "/* Hover effects */\n",
        ".fancy-btn:hover {\n",
        "    background-color: #076aa3;\n",
        "    box-shadow: 0 8px 8px rgba(0, 0, 0, 0.3);\n",
        "    transform: translateY(-5px);\n",
        "}\n"
      ],
      "metadata": {
        "id": "1pHxoGOgmCvt"
      },
      "execution_count": null,
      "outputs": []
    }
  ]
}